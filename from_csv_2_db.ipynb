{
 "cells": [
  {
   "cell_type": "code",
   "execution_count": 3,
   "metadata": {
    "collapsed": false,
    "deletable": true,
    "editable": true
   },
   "outputs": [],
   "source": []
  },
  {
   "cell_type": "code",
   "execution_count": 135,
   "metadata": {
    "collapsed": false,
    "deletable": true,
    "editable": true
   },
   "outputs": [
    {
     "name": "stdout",
     "output_type": "stream",
     "text": [
      "72\n",
      "72\n"
     ]
    }
   ],
   "source": [
    "import csv\n",
    "import pymysql\n",
    "from googletrans import Translator\n",
    "translator = Translator()\n",
    "column_list = []\n",
    "comment_list = []\n",
    "with open('2015-1.csv', 'r') as f: \n",
    "    reader = csv.reader(f)\n",
    "    for row in reader:\n",
    "        for item in row:\n",
    "            \"parallel\"\n",
    "            translate = translator.translate(item).text\n",
    "            unit = translate.split(\"(\")[-1].strip(\")\")\n",
    "            key = translate.split(\"(\")[0].strip().replace(\" \",\"_\").lower().replace(\"-\",\"_\")\n",
    "            while key in column_list:\n",
    "                key = key + \"_d\"\n",
    "            column_list.append(key)\n",
    "            comment_list.append(item)\n",
    "        break\n"
   ]
  },
  {
   "cell_type": "code",
   "execution_count": 150,
   "metadata": {
    "collapsed": true
   },
   "outputs": [],
   "source": [
    "def get_type_str(item):\n",
    "    \"\"\" Get item type base on their values\"\"\"\n",
    "    if item == \"\":\n",
    "        return None\n",
    "    if item.isdigit():\n",
    "        if int(item) == float(item):\n",
    "            return \"INTEGER\"\n",
    "        else:\n",
    "            return \"FLOAT\"\n",
    "    elif \"-\" in item:\n",
    "        return \"DATETIME\"\n",
    "    else:\n",
    "        return \"varchar(255)\"\n",
    "        \n",
    "def get_col_type(column_list,comment_list):\n",
    "    \"\"\" Go through from the 2nd row to last row\"\"\"\n",
    "    is_first_row = True\n",
    "    type_list = [None for item in range(len(column_list))]\n",
    "    with open('2015-1.csv', 'r') as f: \n",
    "        reader = csv.reader(f)\n",
    "        is_first_row = True\n",
    "        for row in reader:\n",
    "            if is_first_row:\n",
    "                is_first_row = False\n",
    "            else:\n",
    "                for index,item in enumerate(row):\n",
    "                    if get_type_str(item):\n",
    "                        if get_type_str(item) == \"varchar(255)\":\n",
    "                            type_list[index] = \"varchar(255)\"\n",
    "                        if type_list[index] == \"varchar(255)\":\n",
    "                            type_list[index] = \"varchar(255)\"\n",
    "                        else:\n",
    "                            type_list[index] = get_type_str(item)\n",
    "                    \n",
    "    for index in range(len(type_list)): \n",
    "        if type_list[index] is None:\n",
    "            type_list[index] = \"varchar(255)\"\n",
    "    return type_list\n",
    "type_list = get_col_type(column_list,comment_list)"
   ]
  },
  {
   "cell_type": "code",
   "execution_count": 151,
   "metadata": {
    "collapsed": false,
    "deletable": true,
    "editable": true
   },
   "outputs": [],
   "source": [
    "content = []\n",
    "for index in range(len(type_list)):\n",
    "    content.append(column_list[index]+\" \"+type_list[index]+\" comment '\"+comment_list[index]+\"'\")\n",
    "sql = \"\"\"create table transfusion ( \n",
    "    {}\n",
    ") engine=innodb,charset=utf8mb4;\"\"\".format(\",\\n\".join(content))\n"
   ]
  },
  {
   "cell_type": "code",
   "execution_count": 152,
   "metadata": {
    "collapsed": false,
    "deletable": true,
    "editable": true
   },
   "outputs": [],
   "source": [
    "import pymysql.cursors\n",
    "\n",
    "config = {\n",
    "          \"host\":'127.0.0.1',\n",
    "         \"port\":3306,\n",
    "         \"user\":'healsci',\n",
    "         \"password\":'bigdata',\n",
    "         \"db\":'practice',\n",
    "         \"charset\":'utf8mb4',\n",
    "         \"cursorclass\":pymysql.cursors.DictCursor\n",
    "          }\n",
    "# Connect to the database\n",
    "connection = pymysql.connect(**config)\n",
    "try:\n",
    "    with connection.cursor() as cursor:\n",
    "        # 执行sql语句，插入记录\n",
    "        #sql = 'INSERT INTO employees (first_name, last_name, hire_date, gender, birth_date) VALUES (%s, %s, %s, %s, %s)'\n",
    "        #cursor.execute(sql, ('Robin', 'Zhyea', tomorrow, 'M', date(1989, 6, 14)));\n",
    "        cursor.execute(sql)\n",
    "        # 获取查询结果\n",
    "#         result = cursor.fetchone()\n",
    "#         print(result)\n",
    "    # 没有设置默认自动提交，需要主动提交，以保存所执行的语句\n",
    "    connection.commit()\n",
    "finally:\n",
    "    connection.close();\n",
    "\n"
   ]
  },
  {
   "cell_type": "code",
   "execution_count": 90,
   "metadata": {
    "collapsed": false,
    "deletable": true,
    "editable": true
   },
   "outputs": [],
   "source": []
  },
  {
   "cell_type": "code",
   "execution_count": 91,
   "metadata": {
    "collapsed": false,
    "deletable": true,
    "editable": true
   },
   "outputs": [],
   "source": []
  },
  {
   "cell_type": "code",
   "execution_count": 154,
   "metadata": {
    "collapsed": false,
    "deletable": true,
    "editable": true
   },
   "outputs": [
    {
     "name": "stdout",
     "output_type": "stream",
     "text": [
      "[{'blood_transfusion_platelet_count': 123, 'requisition_number': 814464, 'amount_of_precipitation': None, 'pre_transfusion_leukocyte_count': '', 'shen_whole_blood_class': '', 'transfusion_fibrinogen': '', 'evaluation_of_plasma_infusion': '无法判断(无输血前检查)', 'body_weight': '73', 'body_surface_area': '1.969', 'hematocrit_after_transfusion': '0.274', 'lose_whole_blood': '', 'application_time': datetime.datetime(2015, 1, 31, 15, 43, 18), 'blood_transfusion_d_d_d': None, 'the_number_of_days_in_hospital': 34, 'blood_bag_number': '01084859', 'shen_whole_blood': None, 'pulse_after_blood_transfusion': None, 'blood_type_d_d': '新鲜冰冻血浆', 'preoperative_transfusion_aptt': '', 'post___transfusion_inr': '1.62', 'blood_transfusion_d_d_d_d_d_d_d': '37.50', 'blood_transfusion_hemoglobin_assay_d': 97, 'patient_id': 'F133856', 'evaluation_of_platelet_transfusion': '', 'blood_type': 'B', 'blood_transfusion_d': '4', 'pre_transfusion_red_blood_cell_count': '', 'blood_transfusion_hemoglobin_assay': None, 'shenhong_amount': 2, 'after_transfusion': None, 'pulse_before_blood_transfusion': 100, 'before_transfusion': '', 'pt_d': '19.6', 'mortar_class': '新鲜冰冻血浆', 'blood_transfusion_d_d_d_d_d_d_d_d': '', 'blood_transfusion_d_d_d_d_d': '2.4', 'pre_transfusion_hematocrit': '', 'pre_transfusion_lymphocytes': '', 'number_of_units': '1.2', 'blood_transfusion_d_d': '', 'blood_transfusion_d_d_d_d_d_d': '无法判断', 'evaluation_of_red_blood_cell_suspension_after_infusion': '无法判断(无输血前检查)', 'bloodstains': 353272, 'blood_transfusion': '悬浮红细胞', 'main_diagnosis': '双侧肱骨干骨折，左腋窝开放伤', 'plate_application': '', 'the_amount_of_cooling': None, 'the_amount_of_pulp': 2, 'shen_hong_class': '悬浮红细胞', 'aptt': '41.4', 'gender': '男', 'pt': '', 'blood_platelet_count_before_transfusion': None, 'pre_transfusion': 18, 'cci': '', 'with_blood': '治疗', 'blood_type_d': '治疗', 'save_time_d': 37, 'cooling_and_sedimentation': '', 'blood_transfusion_d_d_d_d': '新鲜冰冻血浆', 'plate_amount': None, 'height': 175, 'blood_transfusion_white_blood_cell_count': '5.86', 'pre___transfusion_fibrinogen': '', 'blood_transfusion_start_time': datetime.datetime(2015, 1, 31, 20, 4, 57), 'save_time': 898, 'lose_the_whole_blood': None, 'age': 35, 'blood_transfusion_erythrocyte_count': '3.19', 'blood_transfusion_lymphocytes': '0.056', 'shen_cold_precipitates': '', 'department': '发热门诊科'}]\n"
     ]
    }
   ],
   "source": [
    "# Connect to the database\n",
    "connection = pymysql.connect(**config)\n",
    "try:\n",
    "    with connection.cursor() as cursor:\n",
    "        # 执行sql语句，插入记录\n",
    "        #sql = 'INSERT INTO employees (first_name, last_name, hire_date, gender, birth_date) VALUES (%s, %s, %s, %s, %s)'\n",
    "        #cursor.execute(sql, ('Robin', 'Zhyea', tomorrow, 'M', date(1989, 6, 14)));\n",
    "        cursor.execute(\"select * from transfusion limit 1\")\n",
    "        # 获取查询结果\n",
    "        result = cursor.fetchall()\n",
    "        print(result)\n",
    "    # 没有设置默认自动提交，需要主动提交，以保存所执行的语句\n",
    "    connection.commit()\n",
    "finally:\n",
    "    connection.close();"
   ]
  },
  {
   "cell_type": "code",
   "execution_count": 153,
   "metadata": {
    "collapsed": false,
    "deletable": true,
    "editable": true
   },
   "outputs": [],
   "source": [
    "\n",
    "connection = pymysql.connect(**config)\n",
    "try:\n",
    "    with connection.cursor() as cursor:\n",
    "        with open('2015-1.csv', 'r') as f: \n",
    "            reader = csv.reader(f)\n",
    "            is_first_row = True\n",
    "            for row in reader:\n",
    "                if is_first_row:\n",
    "                    is_first_row = False\n",
    "                    pass\n",
    "                else:\n",
    "                    format_list = ['%s' for i in range(len(col_list))]\n",
    "                    sql = 'INSERT INTO transfusion ({}) VALUES ({})'.format(\",\".join(column_list),','.join(format_list))\n",
    "                    insert_row = row\n",
    "                    for index in range(len(type_list)):\n",
    "                        if insert_row[index] == \"\" and type_list[index] == \"FLOAT\":\n",
    "                            insert_row[index] = None\n",
    "                        elif insert_row[index] == \"\" and type_list[index] == \"INTEGER\":\n",
    "                            insert_row[index] = None\n",
    "                        elif insert_row[index] == \"\" and type_list[index] == \"DATETIME\":\n",
    "                            insert_row[index] = None\n",
    "                            \n",
    "                    cursor.execute(sql,insert_row)\n",
    "    connection.commit()\n",
    "finally:\n",
    "    connection.close();\n",
    "                    "
   ]
  },
  {
   "cell_type": "code",
   "execution_count": null,
   "metadata": {
    "collapsed": false,
    "deletable": true,
    "editable": true
   },
   "outputs": [],
   "source": []
  },
  {
   "cell_type": "code",
   "execution_count": null,
   "metadata": {
    "collapsed": false,
    "deletable": true,
    "editable": true
   },
   "outputs": [],
   "source": []
  },
  {
   "cell_type": "code",
   "execution_count": null,
   "metadata": {
    "collapsed": true
   },
   "outputs": [],
   "source": []
  }
 ],
 "metadata": {
  "kernelspec": {
   "display_name": "Python 3",
   "language": "python",
   "name": "python3"
  },
  "language_info": {
   "codemirror_mode": {
    "name": "ipython",
    "version": 3
   },
   "file_extension": ".py",
   "mimetype": "text/x-python",
   "name": "python",
   "nbconvert_exporter": "python",
   "pygments_lexer": "ipython3",
   "version": "3.5.2"
  }
 },
 "nbformat": 4,
 "nbformat_minor": 2
}
